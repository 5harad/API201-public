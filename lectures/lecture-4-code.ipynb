{
 "cells": [
  {
   "cell_type": "markdown",
   "id": "c8f6d4f7",
   "metadata": {},
   "source": [
    "# Lecture 4: probability"
   ]
  },
  {
   "cell_type": "markdown",
   "id": "9236e1b7",
   "metadata": {},
   "source": [
    "We begin by loading the various libraries that we'll use, and setting the plotting parameters"
   ]
  },
  {
   "cell_type": "code",
   "execution_count": 1,
   "id": "1b211e6c",
   "metadata": {},
   "outputs": [
    {
     "name": "stderr",
     "output_type": "stream",
     "text": [
      "Warning message in system(\"timedatectl\", intern = TRUE):\n",
      "“running command 'timedatectl' had status 1”\n",
      "── \u001b[1mAttaching packages\u001b[22m ─────────────────────────────────────── tidyverse 1.3.2 ──\n",
      "\u001b[32m✔\u001b[39m \u001b[34mggplot2\u001b[39m 3.3.6     \u001b[32m✔\u001b[39m \u001b[34mpurrr  \u001b[39m 0.3.4\n",
      "\u001b[32m✔\u001b[39m \u001b[34mtibble \u001b[39m 3.1.8     \u001b[32m✔\u001b[39m \u001b[34mdplyr  \u001b[39m 1.0.9\n",
      "\u001b[32m✔\u001b[39m \u001b[34mtidyr  \u001b[39m 1.2.0     \u001b[32m✔\u001b[39m \u001b[34mstringr\u001b[39m 1.4.0\n",
      "\u001b[32m✔\u001b[39m \u001b[34mreadr  \u001b[39m 2.1.2     \u001b[32m✔\u001b[39m \u001b[34mforcats\u001b[39m 0.5.1\n",
      "── \u001b[1mConflicts\u001b[22m ────────────────────────────────────────── tidyverse_conflicts() ──\n",
      "\u001b[31m✖\u001b[39m \u001b[34mdplyr\u001b[39m::\u001b[32mfilter()\u001b[39m masks \u001b[34mstats\u001b[39m::filter()\n",
      "\u001b[31m✖\u001b[39m \u001b[34mdplyr\u001b[39m::\u001b[32mlag()\u001b[39m    masks \u001b[34mstats\u001b[39m::lag()\n"
     ]
    }
   ],
   "source": [
    "library(tidyverse)\n",
    "\n",
    "# set a simple black & white theme for our plots\n",
    "theme_set(theme_bw())"
   ]
  },
  {
   "cell_type": "markdown",
   "id": "c8813e64",
   "metadata": {},
   "source": [
    "## Part 1: Birthday paradox"
   ]
  },
  {
   "cell_type": "code",
   "execution_count": 2,
   "id": "9b7b0cec",
   "metadata": {},
   "outputs": [],
   "source": [
    "set.seed(3)"
   ]
  },
  {
   "cell_type": "code",
   "execution_count": 3,
   "id": "b166aa35",
   "metadata": {},
   "outputs": [
    {
     "data": {
      "text/html": [
       "<style>\n",
       ".list-inline {list-style: none; margin:0; padding: 0}\n",
       ".list-inline>li {display: inline-block}\n",
       ".list-inline>li:not(:last-child)::after {content: \"\\00b7\"; padding: 0 .5ex}\n",
       "</style>\n",
       "<ol class=list-inline><li>261</li><li>186</li><li>140</li><li>36</li><li>186</li><li>363</li><li>276</li><li>330</li><li>183</li><li>168</li><li>48</li><li>104</li><li>136</li><li>37</li><li>108</li><li>261</li><li>165</li><li>137</li><li>256</li><li>274</li></ol>\n"
      ],
      "text/latex": [
       "\\begin{enumerate*}\n",
       "\\item 261\n",
       "\\item 186\n",
       "\\item 140\n",
       "\\item 36\n",
       "\\item 186\n",
       "\\item 363\n",
       "\\item 276\n",
       "\\item 330\n",
       "\\item 183\n",
       "\\item 168\n",
       "\\item 48\n",
       "\\item 104\n",
       "\\item 136\n",
       "\\item 37\n",
       "\\item 108\n",
       "\\item 261\n",
       "\\item 165\n",
       "\\item 137\n",
       "\\item 256\n",
       "\\item 274\n",
       "\\end{enumerate*}\n"
      ],
      "text/markdown": [
       "1. 261\n",
       "2. 186\n",
       "3. 140\n",
       "4. 36\n",
       "5. 186\n",
       "6. 363\n",
       "7. 276\n",
       "8. 330\n",
       "9. 183\n",
       "10. 168\n",
       "11. 48\n",
       "12. 104\n",
       "13. 136\n",
       "14. 37\n",
       "15. 108\n",
       "16. 261\n",
       "17. 165\n",
       "18. 137\n",
       "19. 256\n",
       "20. 274\n",
       "\n",
       "\n"
      ],
      "text/plain": [
       " [1] 261 186 140  36 186 363 276 330 183 168  48 104 136  37 108 261 165 137 256\n",
       "[20] 274"
      ]
     },
     "metadata": {},
     "output_type": "display_data"
    }
   ],
   "source": [
    "birthdays <- sample(1:365, 20, replace = TRUE)\n",
    "birthdays"
   ]
  },
  {
   "cell_type": "code",
   "execution_count": 4,
   "id": "5c7b4b54",
   "metadata": {},
   "outputs": [
    {
     "data": {
      "text/html": [
       "TRUE"
      ],
      "text/latex": [
       "TRUE"
      ],
      "text/markdown": [
       "TRUE"
      ],
      "text/plain": [
       "[1] TRUE"
      ]
     },
     "metadata": {},
     "output_type": "display_data"
    }
   ],
   "source": [
    "any(duplicated(birthdays))"
   ]
  },
  {
   "cell_type": "code",
   "execution_count": 5,
   "id": "fa438906",
   "metadata": {},
   "outputs": [
    {
     "data": {
      "text/html": [
       "<style>\n",
       ".list-inline {list-style: none; margin:0; padding: 0}\n",
       ".list-inline>li {display: inline-block}\n",
       ".list-inline>li:not(:last-child)::after {content: \"\\00b7\"; padding: 0 .5ex}\n",
       "</style>\n",
       "<ol class=list-inline><li>12</li><li>40</li><li>22</li><li>70</li><li>296</li><li>15</li><li>330</li><li>75</li><li>29</li><li>343</li><li>131</li><li>62</li><li>127</li><li>101</li><li>247</li><li>182</li><li>136</li><li>138</li><li>68</li><li>33</li></ol>\n"
      ],
      "text/latex": [
       "\\begin{enumerate*}\n",
       "\\item 12\n",
       "\\item 40\n",
       "\\item 22\n",
       "\\item 70\n",
       "\\item 296\n",
       "\\item 15\n",
       "\\item 330\n",
       "\\item 75\n",
       "\\item 29\n",
       "\\item 343\n",
       "\\item 131\n",
       "\\item 62\n",
       "\\item 127\n",
       "\\item 101\n",
       "\\item 247\n",
       "\\item 182\n",
       "\\item 136\n",
       "\\item 138\n",
       "\\item 68\n",
       "\\item 33\n",
       "\\end{enumerate*}\n"
      ],
      "text/markdown": [
       "1. 12\n",
       "2. 40\n",
       "3. 22\n",
       "4. 70\n",
       "5. 296\n",
       "6. 15\n",
       "7. 330\n",
       "8. 75\n",
       "9. 29\n",
       "10. 343\n",
       "11. 131\n",
       "12. 62\n",
       "13. 127\n",
       "14. 101\n",
       "15. 247\n",
       "16. 182\n",
       "17. 136\n",
       "18. 138\n",
       "19. 68\n",
       "20. 33\n",
       "\n",
       "\n"
      ],
      "text/plain": [
       " [1]  12  40  22  70 296  15 330  75  29 343 131  62 127 101 247 182 136 138  68\n",
       "[20]  33"
      ]
     },
     "metadata": {},
     "output_type": "display_data"
    }
   ],
   "source": [
    "birthdays <- sample(1:365, 20, replace = TRUE)\n",
    "birthdays"
   ]
  },
  {
   "cell_type": "code",
   "execution_count": 6,
   "id": "6a71277f",
   "metadata": {},
   "outputs": [
    {
     "data": {
      "text/html": [
       "FALSE"
      ],
      "text/latex": [
       "FALSE"
      ],
      "text/markdown": [
       "FALSE"
      ],
      "text/plain": [
       "[1] FALSE"
      ]
     },
     "metadata": {},
     "output_type": "display_data"
    }
   ],
   "source": [
    "any(duplicated(birthdays))"
   ]
  },
  {
   "cell_type": "code",
   "execution_count": 7,
   "id": "b2dcd4a0",
   "metadata": {},
   "outputs": [
    {
     "data": {
      "text/html": [
       "<style>\n",
       ".list-inline {list-style: none; margin:0; padding: 0}\n",
       ".list-inline>li {display: inline-block}\n",
       ".list-inline>li:not(:last-child)::after {content: \"\\00b7\"; padding: 0 .5ex}\n",
       "</style>\n",
       "<ol class=list-inline><li>FALSE</li><li>FALSE</li><li>TRUE</li><li>FALSE</li><li>TRUE</li><li>FALSE</li></ol>\n"
      ],
      "text/latex": [
       "\\begin{enumerate*}\n",
       "\\item FALSE\n",
       "\\item FALSE\n",
       "\\item TRUE\n",
       "\\item FALSE\n",
       "\\item TRUE\n",
       "\\item FALSE\n",
       "\\end{enumerate*}\n"
      ],
      "text/markdown": [
       "1. FALSE\n",
       "2. FALSE\n",
       "3. TRUE\n",
       "4. FALSE\n",
       "5. TRUE\n",
       "6. FALSE\n",
       "\n",
       "\n"
      ],
      "text/plain": [
       "[1] FALSE FALSE  TRUE FALSE  TRUE FALSE"
      ]
     },
     "metadata": {},
     "output_type": "display_data"
    }
   ],
   "source": [
    "results <- replicate(1e5, {\n",
    "    birthdays <- sample(1:365, 20, replace = TRUE)\n",
    "    any(duplicated(birthdays))\n",
    "})\n",
    "\n",
    "head(results)"
   ]
  },
  {
   "cell_type": "code",
   "execution_count": 8,
   "id": "6523e4e0",
   "metadata": {},
   "outputs": [
    {
     "data": {
      "text/html": [
       "0.41156"
      ],
      "text/latex": [
       "0.41156"
      ],
      "text/markdown": [
       "0.41156"
      ],
      "text/plain": [
       "[1] 0.41156"
      ]
     },
     "metadata": {},
     "output_type": "display_data"
    }
   ],
   "source": [
    "mean(results)"
   ]
  },
  {
   "cell_type": "code",
   "execution_count": 9,
   "id": "47c734b5",
   "metadata": {},
   "outputs": [
    {
     "data": {
      "text/html": [
       "0.41143838358058"
      ],
      "text/latex": [
       "0.41143838358058"
      ],
      "text/markdown": [
       "0.41143838358058"
      ],
      "text/plain": [
       "[1] 0.4114384"
      ]
     },
     "metadata": {},
     "output_type": "display_data"
    }
   ],
   "source": [
    "# computing the probability analytically\n",
    "1 - prod(365:(365-19) / 365)"
   ]
  }
 ],
 "metadata": {
  "kernelspec": {
   "display_name": "R",
   "language": "R",
   "name": "ir"
  },
  "language_info": {
   "codemirror_mode": "r",
   "file_extension": ".r",
   "mimetype": "text/x-r-source",
   "name": "R",
   "pygments_lexer": "r",
   "version": "4.1.3"
  }
 },
 "nbformat": 4,
 "nbformat_minor": 5
}
